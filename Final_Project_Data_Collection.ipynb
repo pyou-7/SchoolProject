{
 "cells": [
  {
   "cell_type": "code",
   "execution_count": 1,
   "id": "f859e076",
   "metadata": {},
   "outputs": [],
   "source": [
    "offset = 0\n",
    "limit = 3000\n",
    "period = 'max'"
   ]
  },
  {
   "cell_type": "code",
   "execution_count": 2,
   "id": "25356394",
   "metadata": {},
   "outputs": [],
   "source": [
    "import pandas as pd\n",
    "import datetime\n",
    "from datetime import date\n",
    "import shutil\n",
    "from os.path import isfile, join\n",
    "#Make a folder called \"hist\" that will contain all of the stock files in one sector.\n",
    "! mkdir hist\n",
    "\n",
    "#Read the data of all NASDAQ stocks that has no issues\n",
    "data = pd.read_csv(\"http://www.nasdaqtrader.com/dynamic/SymDir/nasdaqtraded.txt\", sep='|')\n",
    "data_clean = data[data['Test Issue'] == 'N']"
   ]
  },
  {
   "cell_type": "markdown",
   "id": "0a281e2c",
   "metadata": {},
   "source": [
    "# Read Datasets of different Sectors "
   ]
  },
  {
   "cell_type": "code",
   "execution_count": 25,
   "id": "3ce21830",
   "metadata": {},
   "outputs": [
    {
     "name": "stdout",
     "output_type": "stream",
     "text": [
      "total number of symbols in the telecommunications sector = 40\n"
     ]
    }
   ],
   "source": [
    "#Read data from telecommunications sector\n",
    "telecommunications_data = pd.read_csv('Telecommunications_sector.csv')\n",
    "telecommunications_symbols = telecommunications_data['Symbol'].tolist()\n",
    "\n",
    "print('total number of symbols in the telecommunications sector = {}'.format(len(telecommunications_symbols)))"
   ]
  },
  {
   "cell_type": "code",
   "execution_count": 26,
   "id": "67d5ee62",
   "metadata": {},
   "outputs": [
    {
     "name": "stdout",
     "output_type": "stream",
     "text": [
      "total number of symbols in the energy sector = 150\n"
     ]
    }
   ],
   "source": [
    "#Read data from energy sector\n",
    "energy_data = pd.read_csv('Energy_sector.csv')\n",
    "energy_symbols = energy_data['Symbol'].tolist()\n",
    "\n",
    "print('total number of symbols in the energy sector = {}'.format(len(energy_symbols)))"
   ]
  },
  {
   "cell_type": "code",
   "execution_count": 27,
   "id": "eabd5620",
   "metadata": {},
   "outputs": [
    {
     "name": "stdout",
     "output_type": "stream",
     "text": [
      "total number of symbols in the financials sector = 1396\n"
     ]
    }
   ],
   "source": [
    "#Read data from financials sector\n",
    "financials_data = pd.read_csv('Financials_sector.csv')\n",
    "financials_symbols = financials_data['Symbol'].tolist()\n",
    "\n",
    "print('total number of symbols in the financials sector = {}'.format(len(financials_symbols)))"
   ]
  },
  {
   "cell_type": "code",
   "execution_count": 28,
   "id": "040e1e1f",
   "metadata": {},
   "outputs": [
    {
     "name": "stdout",
     "output_type": "stream",
     "text": [
      "total number of symbols in the consumer discretionary sector = 755\n"
     ]
    }
   ],
   "source": [
    "#Read data from consumer discretionary sector\n",
    "consumer_discretionary_data = pd.read_csv('ConsumerDiscretionary_sector.csv')\n",
    "consumer_discretionary_symbols = consumer_discretionary_data['Symbol'].tolist()\n",
    "\n",
    "print('total number of symbols in the consumer discretionary sector = {}'.format(len(consumer_discretionary_symbols)))"
   ]
  },
  {
   "cell_type": "code",
   "execution_count": 29,
   "id": "fba12873",
   "metadata": {},
   "outputs": [
    {
     "name": "stdout",
     "output_type": "stream",
     "text": [
      "total number of symbols in the healthcare sector = 1028\n"
     ]
    }
   ],
   "source": [
    "#Read data from healthcare sector\n",
    "healthcare_data = pd.read_csv('Healthcare_sector.csv')\n",
    "healthcare_symbols = healthcare_data['Symbol'].tolist()\n",
    "\n",
    "print('total number of symbols in the healthcare sector = {}'.format(len(healthcare_symbols)))"
   ]
  },
  {
   "cell_type": "code",
   "execution_count": 30,
   "id": "217b6f7b",
   "metadata": {},
   "outputs": [
    {
     "name": "stdout",
     "output_type": "stream",
     "text": [
      "total number of symbols in the technology sector = 609\n"
     ]
    }
   ],
   "source": [
    "#Read data from technology sector\n",
    "technology_data = pd.read_csv('Technology_sector.csv')\n",
    "technology_symbols = technology_data['Symbol'].tolist()\n",
    "\n",
    "print('total number of symbols in the technology sector = {}'.format(len(technology_symbols)))"
   ]
  },
  {
   "cell_type": "markdown",
   "id": "a591926c",
   "metadata": {},
   "source": [
    "# Download Historic data"
   ]
  },
  {
   "cell_type": "code",
   "execution_count": 9,
   "id": "5d11b17d",
   "metadata": {},
   "outputs": [],
   "source": [
    "import yfinance as yf\n",
    "import os, contextlib"
   ]
  },
  {
   "cell_type": "code",
   "execution_count": 10,
   "id": "45206c90",
   "metadata": {},
   "outputs": [],
   "source": [
    "#move the data files from \"hist\" to \"{sector_name}_stocks\" for use\n",
    "def move_symbols(symbols, dest):\n",
    "    for s in symbols:\n",
    "        filename = '{}.csv'.format(s)\n",
    "        shutil.move(join('hist', filename), join(dest, filename))"
   ]
  },
  {
   "cell_type": "code",
   "execution_count": 11,
   "id": "66dab547",
   "metadata": {},
   "outputs": [
    {
     "name": "stdout",
     "output_type": "stream",
     "text": [
      "Total number of valid symbols downloaded = 40\n"
     ]
    }
   ],
   "source": [
    "#download telecommunications sector data\n",
    "limit = limit if limit else len(telecommunications_symbols)\n",
    "end = min(offset + limit, len(telecommunications_symbols))\n",
    "is_valid = [False] * len(telecommunications_symbols)\n",
    "# force silencing of verbose API\n",
    "with open(os.devnull, 'w') as devnull:\n",
    "    with contextlib.redirect_stdout(devnull):\n",
    "        for i in range(offset, end):\n",
    "            s = telecommunications_symbols[i]\n",
    "            data = yf.download(s, start = \"2020-01-01\", end = date.today())\n",
    "            if len(data.index) == 0:\n",
    "                continue\n",
    "            is_valid[i] = True\n",
    "            data.to_csv('hist/{}.csv'.format(s))\n",
    "\n",
    "print('Total number of valid symbols downloaded = {}'.format(sum(is_valid)))\n",
    "\n",
    "#Filter out the companies that are in the telecommunications sector and move to a separate new folder\n",
    "valid_telecommunications_data = data_clean[data_clean.apply(lambda x: x['NASDAQ Symbol'] in telecommunications_symbols,  axis=1)]\n",
    "!mkdir telecommunications_stocks\n",
    "telecommunications_stocks = valid_telecommunications_data[valid_telecommunications_data['ETF'] == 'N']['NASDAQ Symbol'].tolist()\n",
    "move_symbols(telecommunications_stocks, \"telecommunications_stocks\")"
   ]
  },
  {
   "cell_type": "code",
   "execution_count": 12,
   "id": "e8f84be5",
   "metadata": {},
   "outputs": [
    {
     "name": "stdout",
     "output_type": "stream",
     "text": [
      "Total number of valid symbols downloaded = 150\n"
     ]
    }
   ],
   "source": [
    "#download energy sector data\n",
    "limit = limit if limit else len(energy_symbols)\n",
    "end = min(offset + limit, len(energy_symbols))\n",
    "is_valid = [False] * len(energy_symbols)\n",
    "# force silencing of verbose API\n",
    "with open(os.devnull, 'w') as devnull:\n",
    "    with contextlib.redirect_stdout(devnull):\n",
    "        for i in range(offset, end):\n",
    "            s = energy_symbols[i]\n",
    "            data = yf.download(s, start = \"2020-01-01\", end = date.today())\n",
    "            if len(data.index) == 0:\n",
    "                continue\n",
    "            is_valid[i] = True\n",
    "            data.to_csv('hist/{}.csv'.format(s))\n",
    "\n",
    "print('Total number of valid symbols downloaded = {}'.format(sum(is_valid)))\n",
    "\n",
    "#Filter out the companies that are in the energy sector and move to a separate new folder\n",
    "valid_energy_data = data_clean[data_clean.apply(lambda x: x['NASDAQ Symbol'] in energy_symbols,  axis=1)]\n",
    "!mkdir energy_stocks\n",
    "energy_stocks = valid_energy_data[valid_energy_data['ETF'] == 'N']['NASDAQ Symbol'].tolist()\n",
    "move_symbols(energy_stocks, \"energy_stocks\")"
   ]
  },
  {
   "cell_type": "code",
   "execution_count": 22,
   "id": "7ccc7f3f",
   "metadata": {},
   "outputs": [
    {
     "name": "stdout",
     "output_type": "stream",
     "text": [
      "Total number of valid symbols downloaded = 1392\n"
     ]
    }
   ],
   "source": [
    "#download financials sector data\n",
    "limit = limit if limit else len(financials_symbols)\n",
    "end = min(offset + limit, len(financials_symbols))\n",
    "is_valid = [False] * len(financials_symbols)\n",
    "# force silencing of verbose API\n",
    "with open(os.devnull, 'w') as devnull:\n",
    "    with contextlib.redirect_stdout(devnull):\n",
    "        for i in range(offset, end):\n",
    "            s = financials_symbols[i]\n",
    "            data = yf.download(s, start = \"2020-01-01\", end = date.today())\n",
    "            if len(data.index) == 0:\n",
    "                continue\n",
    "            is_valid[i] = True\n",
    "            data.to_csv('hist/{}.csv'.format(s))\n",
    "\n",
    "print('Total number of valid symbols downloaded = {}'.format(sum(is_valid)))\n",
    "\n",
    "#Filter out the companies that are in the financials sector and move to a separate new folder\n",
    "valid_financials_data = data_clean[data_clean.apply(lambda x: x['NASDAQ Symbol'] in financials_symbols,  axis=1)]\n",
    "!mkdir financials_stocks\n",
    "financials_stocks = valid_financials_data[valid_financials_data['ETF'] == 'N']['NASDAQ Symbol'].tolist()\n",
    "move_symbols(financials_stocks, \"financials_stocks\")"
   ]
  },
  {
   "cell_type": "code",
   "execution_count": 24,
   "id": "2061c80e",
   "metadata": {},
   "outputs": [
    {
     "name": "stdout",
     "output_type": "stream",
     "text": [
      "Total number of valid symbols downloaded = 755\n"
     ]
    }
   ],
   "source": [
    "#download consumer discretionary sector data\n",
    "limit = limit if limit else len(consumer_discretionary_symbols)\n",
    "end = min(offset + limit, len(consumer_discretionary_symbols))\n",
    "is_valid = [False] * len(consumer_discretionary_symbols)\n",
    "# force silencing of verbose API\n",
    "with open(os.devnull, 'w') as devnull:\n",
    "    with contextlib.redirect_stdout(devnull):\n",
    "        for i in range(offset, end):\n",
    "            s = consumer_discretionary_symbols[i]\n",
    "            data = yf.download(s, start = \"2020-01-01\", end = date.today())\n",
    "            if len(data.index) == 0:\n",
    "                continue\n",
    "            is_valid[i] = True\n",
    "            data.to_csv('hist/{}.csv'.format(s))\n",
    "\n",
    "print('Total number of valid symbols downloaded = {}'.format(sum(is_valid)))\n",
    "\n",
    "#Filter out the companies that are in the consumer discretionary sector and move to a separate new folder\n",
    "valid_consumer_discretionary_data = data_clean[data_clean.apply(lambda x: x['NASDAQ Symbol'] in consumer_discretionary_symbols,  axis=1)]\n",
    "!mkdir consumer_discretionary_stocks\n",
    "consumer_discretionary_stocks = valid_consumer_discretionary_data[valid_consumer_discretionary_data['ETF'] == 'N']['NASDAQ Symbol'].tolist()\n",
    "move_symbols(consumer_discretionary_stocks, \"consumer_discretionary_stocks\")"
   ]
  },
  {
   "cell_type": "code",
   "execution_count": 16,
   "id": "29b84e94",
   "metadata": {},
   "outputs": [
    {
     "name": "stdout",
     "output_type": "stream",
     "text": [
      "Total number of valid symbols downloaded = 1028\n"
     ]
    }
   ],
   "source": [
    "#download healthcare sector data\n",
    "limit = limit if limit else len(healthcare_symbols)\n",
    "end = min(offset + limit, len(healthcare_symbols))\n",
    "is_valid = [False] * len(healthcare_symbols)\n",
    "# force silencing of verbose API\n",
    "with open(os.devnull, 'w') as devnull:\n",
    "    with contextlib.redirect_stdout(devnull):\n",
    "        for i in range(offset, end):\n",
    "            s = healthcare_symbols[i]\n",
    "            data = yf.download(s, start = \"2020-01-01\", end = date.today())\n",
    "            if len(data.index) == 0:\n",
    "                continue\n",
    "            is_valid[i] = True\n",
    "            data.to_csv('hist/{}.csv'.format(s))\n",
    "\n",
    "print('Total number of valid symbols downloaded = {}'.format(sum(is_valid)))\n",
    "\n",
    "#Filter out the companies that are in the healthcare sector and move to a separate new folder\n",
    "valid_healthcare_data = data_clean[data_clean.apply(lambda x: x['NASDAQ Symbol'] in healthcare_symbols,  axis=1)]\n",
    "!mkdir healthcare_stocks\n",
    "healthcare_stocks = valid_healthcare_data[valid_healthcare_data['ETF'] == 'N']['NASDAQ Symbol'].tolist()\n",
    "move_symbols(healthcare_stocks, \"healthcare_stocks\")"
   ]
  },
  {
   "cell_type": "code",
   "execution_count": 17,
   "id": "f797f989",
   "metadata": {},
   "outputs": [
    {
     "name": "stdout",
     "output_type": "stream",
     "text": [
      "Total number of valid symbols downloaded = 609\n"
     ]
    }
   ],
   "source": [
    "#download technology sector data\n",
    "limit = limit if limit else len(technology_symbols)\n",
    "end = min(offset + limit, len(technology_symbols))\n",
    "is_valid = [False] * len(technology_symbols)\n",
    "# force silencing of verbose API\n",
    "with open(os.devnull, 'w') as devnull:\n",
    "    with contextlib.redirect_stdout(devnull):\n",
    "        for i in range(offset, end):\n",
    "            s = technology_symbols[i]\n",
    "            data = yf.download(s, start = \"2020-01-01\", end = date.today())\n",
    "            if len(data.index) == 0:\n",
    "                continue\n",
    "            is_valid[i] = True\n",
    "            data.to_csv('hist/{}.csv'.format(s))\n",
    "\n",
    "print('Total number of valid symbols downloaded = {}'.format(sum(is_valid)))\n",
    "\n",
    "#Filter out the companies that are in the technology sector and move to a separate new folder\n",
    "valid_technology_data = data_clean[data_clean.apply(lambda x: x['NASDAQ Symbol'] in technology_symbols,  axis=1)]\n",
    "!mkdir technology_stocks\n",
    "technology_stocks = valid_technology_data[valid_technology_data['ETF'] == 'N']['NASDAQ Symbol'].tolist()\n",
    "move_symbols(technology_stocks, \"technology_stocks\")"
   ]
  },
  {
   "cell_type": "code",
   "execution_count": null,
   "id": "05f5972a",
   "metadata": {},
   "outputs": [],
   "source": []
  }
 ],
 "metadata": {
  "kernelspec": {
   "display_name": "Python 3 (ipykernel)",
   "language": "python",
   "name": "python3"
  },
  "language_info": {
   "codemirror_mode": {
    "name": "ipython",
    "version": 3
   },
   "file_extension": ".py",
   "mimetype": "text/x-python",
   "name": "python",
   "nbconvert_exporter": "python",
   "pygments_lexer": "ipython3",
   "version": "3.9.13"
  }
 },
 "nbformat": 4,
 "nbformat_minor": 5
}
